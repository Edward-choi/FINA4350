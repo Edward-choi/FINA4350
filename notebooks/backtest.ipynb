{
 "cells": [
  {
   "cell_type": "code",
   "execution_count": 1,
   "metadata": {},
   "outputs": [],
   "source": [
    "import numpy as np \n",
    "import pandas as pd\n",
    "\n",
    "def weighted_frequency(recommendations):\n",
    "    weights = {1: -1.5, 2: -1, 3: 0, 4: 1, 5: 1.5}\n",
    "    weighted_recommendations = recommendations.groupby('Symbol').apply(\n",
    "        lambda x: sum(x['Call'].apply(lambda y: weights[y]))\n",
    "    ).reset_index(name='Weighted_Sum_Call')\n",
    "    \n",
    "    # Add the date column\n",
    "    weighted_recommendations['Date'] = recommendations.name\n",
    "    return weighted_recommendations\n"
   ]
  },
  {
   "cell_type": "code",
   "execution_count": 2,
   "metadata": {},
   "outputs": [],
   "source": [
    "from glob import glob\n",
    "\n",
    "# read MadMoneyInversedData_no_lightning_*.csv and concatenate them into one dataframe\n",
    "filenames = glob('MadMoneyInversedData_no_lightning_*.csv')\n",
    "recommendations_df = pd.concat([pd.read_csv(f, encoding='ISO-8859-1') for f in filenames])"
   ]
  },
  {
   "cell_type": "code",
   "execution_count": 3,
   "metadata": {},
   "outputs": [
    {
     "data": {
      "text/plain": [
       "Call\n",
       "1    7667\n",
       "2    1649\n",
       "4    1355\n",
       "5     473\n",
       "3       7\n",
       "Name: count, dtype: int64"
      ]
     },
     "execution_count": 3,
     "metadata": {},
     "output_type": "execute_result"
    }
   ],
   "source": [
    "recommendations_df['Call'].value_counts()"
   ]
  },
  {
   "cell_type": "code",
   "execution_count": 4,
   "metadata": {},
   "outputs": [],
   "source": [
    "# Convert the date column to datetime format\n",
    "recommendations_df['Date'] = pd.to_datetime(recommendations_df['Date'])\n",
    "\n",
    "# Set the date as the index\n",
    "# recommendations_df.set_index('Date', inplace=True)\n",
    "\n",
    "# Resample the recommendations to a monthly frequency and apply the weighted frequency function\n",
    "monthly_recommendations = recommendations_df.resample('M', on='Date').apply(weighted_frequency).set_index('Date')\n"
   ]
  },
  {
   "cell_type": "code",
   "execution_count": 5,
   "metadata": {},
   "outputs": [
    {
     "data": {
      "text/html": [
       "<div>\n",
       "<style scoped>\n",
       "    .dataframe tbody tr th:only-of-type {\n",
       "        vertical-align: middle;\n",
       "    }\n",
       "\n",
       "    .dataframe tbody tr th {\n",
       "        vertical-align: top;\n",
       "    }\n",
       "\n",
       "    .dataframe thead th {\n",
       "        text-align: right;\n",
       "    }\n",
       "</style>\n",
       "<table border=\"1\" class=\"dataframe\">\n",
       "  <thead>\n",
       "    <tr style=\"text-align: right;\">\n",
       "      <th></th>\n",
       "      <th>Symbol</th>\n",
       "      <th>Weighted_Sum_Call</th>\n",
       "    </tr>\n",
       "    <tr>\n",
       "      <th>Date</th>\n",
       "      <th></th>\n",
       "      <th></th>\n",
       "    </tr>\n",
       "  </thead>\n",
       "  <tbody>\n",
       "    <tr>\n",
       "      <th>2017-01-31</th>\n",
       "      <td>M</td>\n",
       "      <td>3.5</td>\n",
       "    </tr>\n",
       "    <tr>\n",
       "      <th>2017-01-31</th>\n",
       "      <td>TGT</td>\n",
       "      <td>3.0</td>\n",
       "    </tr>\n",
       "    <tr>\n",
       "      <th>2017-01-31</th>\n",
       "      <td>UA</td>\n",
       "      <td>2.5</td>\n",
       "    </tr>\n",
       "    <tr>\n",
       "      <th>2017-01-31</th>\n",
       "      <td>KSS</td>\n",
       "      <td>2.5</td>\n",
       "    </tr>\n",
       "    <tr>\n",
       "      <th>2017-01-31</th>\n",
       "      <td>FSLR</td>\n",
       "      <td>2.5</td>\n",
       "    </tr>\n",
       "    <tr>\n",
       "      <th>...</th>\n",
       "      <td>...</td>\n",
       "      <td>...</td>\n",
       "    </tr>\n",
       "    <tr>\n",
       "      <th>2017-01-31</th>\n",
       "      <td>AMZN</td>\n",
       "      <td>-6.5</td>\n",
       "    </tr>\n",
       "    <tr>\n",
       "      <th>2017-01-31</th>\n",
       "      <td>BAC</td>\n",
       "      <td>-7.0</td>\n",
       "    </tr>\n",
       "    <tr>\n",
       "      <th>2017-01-31</th>\n",
       "      <td>JPM</td>\n",
       "      <td>-8.5</td>\n",
       "    </tr>\n",
       "    <tr>\n",
       "      <th>2017-01-31</th>\n",
       "      <td>AAPL</td>\n",
       "      <td>-10.0</td>\n",
       "    </tr>\n",
       "    <tr>\n",
       "      <th>2017-01-31</th>\n",
       "      <td>UNH</td>\n",
       "      <td>-10.5</td>\n",
       "    </tr>\n",
       "  </tbody>\n",
       "</table>\n",
       "<p>157 rows × 2 columns</p>\n",
       "</div>"
      ],
      "text/plain": [
       "           Symbol  Weighted_Sum_Call\n",
       "Date                                \n",
       "2017-01-31      M                3.5\n",
       "2017-01-31    TGT                3.0\n",
       "2017-01-31     UA                2.5\n",
       "2017-01-31    KSS                2.5\n",
       "2017-01-31   FSLR                2.5\n",
       "...           ...                ...\n",
       "2017-01-31   AMZN               -6.5\n",
       "2017-01-31    BAC               -7.0\n",
       "2017-01-31    JPM               -8.5\n",
       "2017-01-31   AAPL              -10.0\n",
       "2017-01-31    UNH              -10.5\n",
       "\n",
       "[157 rows x 2 columns]"
      ]
     },
     "execution_count": 5,
     "metadata": {},
     "output_type": "execute_result"
    }
   ],
   "source": [
    "# get row '2017-01-31' from monthly_recommendations\n",
    "monthly_recommendations.loc['2017-01-31'].sort_values(by='Weighted_Sum_Call', ascending=False)"
   ]
  },
  {
   "cell_type": "code",
   "execution_count": 6,
   "metadata": {},
   "outputs": [
    {
     "name": "stdout",
     "output_type": "stream",
     "text": [
      "                                     Top5                         Bottom5\n",
      "Date                                                                     \n",
      "2017-01-31        [M, TGT, KSS, UA, FSLR]     [AMZN, BAC, JPM, AAPL, UNH]\n",
      "2017-02-28       [TWTR, KSS, M, NWL, TWX]    [HAS, FB, GOOGL, AMZN, AAPL]\n",
      "2017-03-31  [SNAP, SHLD, SPG, TRIP, TWNK]     [DRI, DPZ, ADBE, RHT, AAPL]\n",
      "2017-04-30       [SBUX, S, WFM, SAM, TAP]   [CAT, LRCX, MCD, AMZN, GOOGL]\n",
      "2017-05-31      [WFM, TGT, SYF, AXP, AKS]  [CRM, TTWO, AMZN, GOOGL, AAPL]\n",
      "2017-06-30     [BBBY, KR, NKE, SVU, RCII]  [GOOGL, STZ, AAPL, NVDA, ADBE]\n",
      "2017-07-31      [APRN, GE, CMG, AAP, AZO]    [CAT, NVDA, FB, GOOGL, NFLX]\n",
      "2017-08-31      [LB, INSY, SNAP, FL, FIT]      [PVH, NVDA, V, AMZN, AAPL]\n",
      "2017-09-30   [BBBY, EFX, FINL, COTY, CVS]   [NFLX, BURL, TJX, AMZN, AAPL]\n",
      "2017-10-31       [GE, KHC, WBA, NKE, CMG]       [SWK, GM, JPM, CAT, AAPL]\n",
      "2017-11-30     [JCP, GE, CVS, SNAP, SFIX]     [HD, TSN, PYPL, NVDA, AAPL]\n",
      "2017-12-31   [ADSK, TVPT, SJM, PLAY, PBF]        [BA, DIS, CAT, AAPL, HD]\n",
      "2018-01-31        [GE, MU, XOM, VZ, APRN]      [JPM, CAT, NFLX, AAPL, BA]\n",
      "2018-02-28         [GE, XOM, W, PFE, MRK]       [FB, NVDA, JPM, BA, AAPL]\n",
      "2018-03-31      [KR, CELG, SPG, WBA, SKT]      [WDC, CLX, NVDA, INTC, MU]\n",
      "2018-04-30     [KMB, BBBY, PG, WFC, ACIA]      [BA, MSFT, INTC, FB, NFLX]\n",
      "2018-05-31    [JCP, YUMC, TAP, SHAK, WFC]       [DIS, MU, FB, NVDA, AAPL]\n",
      "2018-06-30  [SBUX, HRB, TLRD, GOOS, BF.B]    [SQ, TWTR, NFLX, ADBE, PYPL]\n",
      "2018-07-31     [MAT, ITW, LVS, PFE, SBUX]         [MA, JPM, HON, NFLX, C]\n",
      "2018-08-31        [LB, AN, RAD, NWL, GPS]     [TTWO, CVS, DIS, WMT, AAPL]\n",
      "2018-09-30   [FB, BBBY, TSLA, TWTR, SSTI]      [SPLK, JPM, AAPL, SQ, CRM]\n",
      "2018-10-31         [PPG, PNC, MMM, HD, F]       [VFC, PEP, BA, NFLX, UAL]\n",
      "2018-11-30        [GE, CTL, DE, DXC, GOV]   [SBUX, TWLO, CVS, TTWO, AAPL]\n",
      "2018-12-31     [MU, FDX, SNAP, TWTR, TOL]        [V, FB, COST, SBUX, JNJ]\n",
      "2019-01-31    [MAXR, SGH, SWK, WDC, COTY]   [LRCX, DLTR, INTC, AGN, AAPL]\n",
      "2019-02-28     [KHC, CTL, MAT, ALGN, CPB]     [CLX, FB, SWKS, XLNX, TWLO]\n",
      "2019-03-31    [MNST, THO, SIG, ODP, LOGM]      [PVH, NKE, NVDA, FB, AAPL]\n",
      "2019-04-30   [WBA, BBBY, INTC, OXY, PINS]       [NKE, JPM, DIS, FB, AAPL]\n",
      "2019-05-31       [TLRY, BBY, ZM, XLNX, M]    [TGT, CSCO, WDAY, CGC, AAPL]\n",
      "2019-06-30     [AVGO, CRWD, M, PETS, LVS]     [KMX, CNC, ADBE, LULU, CRM]\n",
      "2019-07-31   [CSX, BYND, JNJ, TLRY, NFLX]      [BAC, AMD, WMT, COST, IBM]\n",
      "2019-08-31             [M, BA, JD, LK, F]         [C, TGT, COST, WMT, HD]\n",
      "2019-09-30          [CBAY, M, MIK, MU, C]    [CMG, SBUX, CRM, COST, AAPL]\n",
      "2019-10-31       [GM, BYND, NFLX, F, SLB]      [BMY, CSX, CAT, AAPL, JPM]\n",
      "2019-11-30    [KSS, PTON, GRUB, CSCO, LB]     [TJX, ROST, PVH, DIS, AAPL]\n",
      "2019-12-31      [M, KSS, FDX, ALLK, CRWD]   [JPM, NVDA, COST, TSLA, AAPL]\n",
      "2020-01-31     [XOM, YUMC, WYNN, MAR, GM]   [ABBV, MSFT, AMD, TSLA, AAPL]\n",
      "2020-02-29   [XOM, CVX, CSPR, NCLH, SPCE]    [NVDA, TDOC, ZM, SHOP, TSLA]\n",
      "2020-03-31        [WBA, XOM, M, MMM, DOW]       [AEP, ABBV, CRWD, VZ, ZM]\n",
      "2020-04-30      [SLB, RCL, TPR, KSS, CCL]     [NVDA, MKC, DPZ, NFLX, PEP]\n",
      "2020-05-31      [TSN, SNAP, DIS, FL, GPS]    [BYND, MRNA, WMT, AAPL, TGT]\n",
      "2020-06-30   [HTZ, RCL, DKNG, NCLH, VTIQ]      [ADBE, FB, SHOP, ZM, AAPL]\n",
      "2020-07-31           [GE, C, AAL, INO, F]     [TSCO, AZN, MSFT, AAPL, FB]\n",
      "2020-08-31     [SRNE, JWN, LB, NIO, NKLA]      [ETSY, HD, CRM, WMT, AAPL]\n",
      "2020-09-30   [NKLA, EGHT, ADS, XOM, SPAQ]       [NKE, RH, FDX, COST, LEN]\n",
      "2020-10-31     [WFC, NKLA, C, GPRO, AMWL]       [F, HD, PTON, TSLA, AAPL]\n",
      "2020-11-30     [NKLA, SPG, TSN, SJM, MDT]      [TGT, HON, BA, TSLA, AAPL]\n",
      "2020-12-31    [INTC, SBE, OXY, MLHR, XOM]   [AAPL, NFLX, SNOW, NKE, TSLA]\n",
      "2021-01-31    [FUBO, PTON, SQ, WFC, PENN]     [PLUG, AMD, HD, AAPL, TSLA]\n",
      "2021-02-28     [GME, KR, AMC, UBER, PTON]     [LRCX, AAPL, AMAT, BA, DIS]\n",
      "2021-03-31       [GME, RIDE, T, NKE, RNG]          [F, NUE, RH, BA, TSLA]\n",
      "2021-04-30     [ASAN, AMWL, GME, XOM, XL]      [NFLX, MSFT, HON, F, AAPL]\n",
      "2021-05-31         [RIDE, T, ZM, SQ, BBY]       [HD, NUE, GPS, RBLX, TGT]\n",
      "2021-06-30   [GME, CRSR, CVNA, WBA, WOOF]     [AMD, ADBE, FB, AAPL, NVDA]\n",
      "2021-07-31   [DIDI, CCIV, PTON, AMC, BAC]    [POSH, LEVI, DPZ, AMD, AAPL]\n",
      "2021-08-31  [DIDI, BIDU, BABA, APD, PINS]      [REGN, WMT, DVN, NUE, PXD]\n",
      "2021-09-30   [NKE, YOU, WRBY, TOST, BROS]   [AAPL, CVX, AFRM, TELL, ADBE]\n",
      "2021-10-31    [PTON, ZG, LSPD, WBA, ACCD]      [MS, BAC, NUE, MSFT, AAPL]\n",
      "2021-11-30     [DOCU, MRNA, PTON, Z, AMC]     [DASH, PANW, MSFT, M, NVDA]\n",
      "2021-12-31       [BZFD, PRG, BB, BIRD, W]        [DIS, WSM, AAPL, LLY, F]\n"
     ]
    }
   ],
   "source": [
    "monthly_recommendations = monthly_recommendations.sort_values('Weighted_Sum_Call', ascending=False)\n",
    "grouped = monthly_recommendations.groupby('Date').apply(lambda x: pd.Series({'Top5': x.head(5)['Symbol'].tolist(), 'Bottom5': x.tail(5)['Symbol'].tolist()}))\n",
    "\n",
    "print(grouped)"
   ]
  },
  {
   "cell_type": "code",
   "execution_count": 7,
   "metadata": {},
   "outputs": [],
   "source": [
    "# save group to csv\n",
    "grouped.to_csv('cramer_top_picks_2017-2022.csv')"
   ]
  },
  {
   "cell_type": "code",
   "execution_count": 41,
   "metadata": {},
   "outputs": [
    {
     "name": "stdout",
     "output_type": "stream",
     "text": [
      "258\n"
     ]
    }
   ],
   "source": [
    "# print all unique symbols in grouped (top5 and bottom5)\n",
    "symbols = set()\n",
    "for top5, bottom5 in zip(grouped['Top5'], grouped['Bottom5']):\n",
    "    symbols.update(top5)\n",
    "    symbols.update(bottom5)\n",
    "print(len(symbols))"
   ]
  },
  {
   "cell_type": "code",
   "execution_count": 8,
   "metadata": {},
   "outputs": [
    {
     "data": {
      "text/plain": [
       "'\"[\\'BZFD\\', \\'PRG\\', \\'BB\\', \\'BIRD\\', \\'W\\']\"'"
      ]
     },
     "execution_count": 8,
     "metadata": {},
     "output_type": "execute_result"
    }
   ],
   "source": [
    "line = \"\"\"\n",
    "2021-12-31,\"['BZFD', 'PRG', 'BB', 'BIRD', 'W']\",\"['DIS', 'WSM', 'AAPL', 'LLY', 'F']\"\n",
    "\"\"\"\n",
    "\n",
    "import re\n",
    "date_str, top5_str, bottom5_str = re.split(',(?![^[]*\\])', line)\n",
    "top5_str"
   ]
  },
  {
   "cell_type": "code",
   "execution_count": 18,
   "metadata": {},
   "outputs": [
    {
     "data": {
      "text/plain": [
       "'DIS'"
      ]
     },
     "execution_count": 18,
     "metadata": {},
     "output_type": "execute_result"
    }
   ],
   "source": [
    "eval(eval(bottom5_str))[0]"
   ]
  },
  {
   "cell_type": "code",
   "execution_count": 10,
   "metadata": {},
   "outputs": [],
   "source": [
    "import ast\n",
    "\n",
    "e = ast.literal_eval(top5_str)"
   ]
  },
  {
   "cell_type": "code",
   "execution_count": 12,
   "metadata": {},
   "outputs": [
    {
     "data": {
      "text/plain": [
       "['BZFD', 'PRG', 'BB', 'BIRD', 'W']"
      ]
     },
     "execution_count": 12,
     "metadata": {},
     "output_type": "execute_result"
    }
   ],
   "source": [
    "eval(e)"
   ]
  },
  {
   "cell_type": "code",
   "execution_count": 22,
   "metadata": {},
   "outputs": [
    {
     "data": {
      "text/plain": [
       "list"
      ]
     },
     "execution_count": 22,
     "metadata": {},
     "output_type": "execute_result"
    }
   ],
   "source": []
  }
 ],
 "metadata": {
  "kernelspec": {
   "display_name": ".venv",
   "language": "python",
   "name": "python3"
  },
  "language_info": {
   "codemirror_mode": {
    "name": "ipython",
    "version": 3
   },
   "file_extension": ".py",
   "mimetype": "text/x-python",
   "name": "python",
   "nbconvert_exporter": "python",
   "pygments_lexer": "ipython3",
   "version": "3.10.0"
  },
  "orig_nbformat": 4
 },
 "nbformat": 4,
 "nbformat_minor": 2
}

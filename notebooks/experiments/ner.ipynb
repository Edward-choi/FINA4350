{
 "cells": [
  {
   "attachments": {},
   "cell_type": "markdown",
   "metadata": {},
   "source": [
    "# Named-entity recognition with spaCy\n",
    "Below were the experiment to obtain the company names from tweets using NER, then to be mapped to the stock symbols using a dictionary.\n",
    "\n",
    "The results with spaCy was not good enough to be used in the project, as the models were not specifically trained on financial data. \n",
    "\n",
    "The alternative was to use transformers or LLMs, which were not used in the project due to the time constraint and complexity to fine-tune the models with hand-labeled data."
   ]
  },
  {
   "cell_type": "code",
   "execution_count": 1,
   "metadata": {},
   "outputs": [],
   "source": [
    "import spacy\n",
    "from spacy import displacy\n",
    "import pandas as pd\n",
    "from collections import Counter"
   ]
  },
  {
   "cell_type": "code",
   "execution_count": 2,
   "metadata": {},
   "outputs": [
    {
     "name": "stderr",
     "output_type": "stream",
     "text": [
      "c:\\Users\\Victor\\Documents\\school\\yr 4 sem 2\\FINA4350\\.venv\\lib\\site-packages\\tqdm\\auto.py:21: TqdmWarning: IProgress not found. Please update jupyter and ipywidgets. See https://ipywidgets.readthedocs.io/en/stable/user_install.html\n",
      "  from .autonotebook import tqdm as notebook_tqdm\n"
     ]
    }
   ],
   "source": [
    "nlp = spacy.load('en_core_web_trf')"
   ]
  },
  {
   "cell_type": "code",
   "execution_count": 3,
   "metadata": {},
   "outputs": [],
   "source": [
    "BLACKLIST = ['ev', 'covid', 'etf', 'nyse', 'sec', 'spac', 'fda',\n",
    "             'fed', 'treasury', 'eu', 'cnbc', 'faq', 'company']\n",
    "\n",
    "def get_orgs(text):\n",
    "    # process the text with our SpaCy model to get named entities\n",
    "    doc = nlp(text)\n",
    "    # initialize list to store identified organizations\n",
    "    org_list = []\n",
    "    for entity in doc.ents:\n",
    "        # here we modify the original code to check that entity text is not equal to one of our 'blacklisted' organizations\n",
    "        # (we also add .lower() to lowercase the text, this allows us to match both 'nyse' and 'NYSE' with just 'nyse')\n",
    "        if entity.label_ == 'ORG' and entity.text.lower() not in BLACKLIST:\n",
    "            org_list.append(entity.text)\n",
    "    # if organization is identified more than once it will appear multiple times in list\n",
    "    # we use set() to remove duplicates then convert back to list\n",
    "    org_list = list(set(org_list))\n",
    "    return org_list"
   ]
  },
  {
   "cell_type": "code",
   "execution_count": 4,
   "metadata": {},
   "outputs": [
    {
     "data": {
      "text/plain": [
       "4"
      ]
     },
     "execution_count": 4,
     "metadata": {},
     "output_type": "execute_result"
    }
   ],
   "source": [
    "df = pd.read_csv('../data/jimcramer_tweets_2022-03-20-2023-04-30.csv')\n",
    "old_length = len(df)\n",
    "df = df.dropna(subset=['content'])\n",
    "old_length - len(df)"
   ]
  },
  {
   "cell_type": "code",
   "execution_count": 5,
   "metadata": {},
   "outputs": [],
   "source": [
    "import re\n",
    "\n",
    "def clean_content(text):\n",
    "    if not isinstance(text, str):\n",
    "        print(text)\n",
    "        return text\n",
    "    # Remove links\n",
    "    text = re.sub(r\"http\\S+|www\\S+|https\\S+\", \"\", text, flags=re.MULTILINE)\n",
    "    # Remove hashtags\n",
    "    text = re.sub(r\"\\#\\w+\", \"\", text)\n",
    "    # Remove mentions\n",
    "    text = re.sub(r\"\\@\\w+\", \"\", text)\n",
    "    # Remove emojis and other non-ascii characters\n",
    "    text = text.encode(\"ascii\", \"ignore\").decode(\"ascii\")\n",
    "    # Remove newline and tab characters\n",
    "    text = text.replace(\"\\n\", \" \").replace(\"\\t\", \" \")\n",
    "    # Remove extra spaces\n",
    "    text = re.sub(r\"\\s+\", \" \", text).strip()\n",
    "\n",
    "    return text\n",
    "\n",
    "\n",
    "df[\"content\"] = df[\"content\"].apply(clean_content)\n"
   ]
  },
  {
   "cell_type": "code",
   "execution_count": 6,
   "metadata": {},
   "outputs": [
    {
     "data": {
      "text/html": [
       "<div>\n",
       "<style scoped>\n",
       "    .dataframe tbody tr th:only-of-type {\n",
       "        vertical-align: middle;\n",
       "    }\n",
       "\n",
       "    .dataframe tbody tr th {\n",
       "        vertical-align: top;\n",
       "    }\n",
       "\n",
       "    .dataframe thead th {\n",
       "        text-align: right;\n",
       "    }\n",
       "</style>\n",
       "<table border=\"1\" class=\"dataframe\">\n",
       "  <thead>\n",
       "    <tr style=\"text-align: right;\">\n",
       "      <th></th>\n",
       "      <th>time</th>\n",
       "      <th>content</th>\n",
       "      <th>comments</th>\n",
       "      <th>retweets</th>\n",
       "      <th>quotes</th>\n",
       "      <th>hearts</th>\n",
       "      <th>organizations</th>\n",
       "    </tr>\n",
       "  </thead>\n",
       "  <tbody>\n",
       "    <tr>\n",
       "      <th>0</th>\n",
       "      <td>2023-04-22 15:00:00</td>\n",
       "      <td>Houston, TX! Come spend the afternoon with Lis...</td>\n",
       "      <td>87</td>\n",
       "      <td>9</td>\n",
       "      <td>2</td>\n",
       "      <td>234</td>\n",
       "      <td>[]</td>\n",
       "    </tr>\n",
       "    <tr>\n",
       "      <th>1</th>\n",
       "      <td>2023-04-21 23:00:00</td>\n",
       "      <td>I heard Houston loves Mezcal, so Lisa and I ar...</td>\n",
       "      <td>65</td>\n",
       "      <td>10</td>\n",
       "      <td>1</td>\n",
       "      <td>154</td>\n",
       "      <td>[]</td>\n",
       "    </tr>\n",
       "    <tr>\n",
       "      <th>2</th>\n",
       "      <td>2023-04-21 17:00:00</td>\n",
       "      <td>Houston, TX! I'm heading to the Bayou City thi...</td>\n",
       "      <td>39</td>\n",
       "      <td>4</td>\n",
       "      <td>3</td>\n",
       "      <td>94</td>\n",
       "      <td>[]</td>\n",
       "    </tr>\n",
       "    <tr>\n",
       "      <th>3</th>\n",
       "      <td>2023-04-21 10:56:00</td>\n",
       "      <td>Problematic for Club Name Ford.. hope pinned o...</td>\n",
       "      <td>56</td>\n",
       "      <td>8</td>\n",
       "      <td>5</td>\n",
       "      <td>83</td>\n",
       "      <td>[Ford]</td>\n",
       "    </tr>\n",
       "    <tr>\n",
       "      <th>4</th>\n",
       "      <td>2023-04-21 08:00:00</td>\n",
       "      <td>As a veteran of these wars i totally agree</td>\n",
       "      <td>33</td>\n",
       "      <td>2</td>\n",
       "      <td>1</td>\n",
       "      <td>48</td>\n",
       "      <td>[]</td>\n",
       "    </tr>\n",
       "  </tbody>\n",
       "</table>\n",
       "</div>"
      ],
      "text/plain": [
       "                  time                                            content   \n",
       "0  2023-04-22 15:00:00  Houston, TX! Come spend the afternoon with Lis...  \\\n",
       "1  2023-04-21 23:00:00  I heard Houston loves Mezcal, so Lisa and I ar...   \n",
       "2  2023-04-21 17:00:00  Houston, TX! I'm heading to the Bayou City thi...   \n",
       "3  2023-04-21 10:56:00  Problematic for Club Name Ford.. hope pinned o...   \n",
       "4  2023-04-21 08:00:00         As a veteran of these wars i totally agree   \n",
       "\n",
       "   comments  retweets  quotes  hearts organizations  \n",
       "0        87         9       2     234            []  \n",
       "1        65        10       1     154            []  \n",
       "2        39         4       3      94            []  \n",
       "3        56         8       5      83        [Ford]  \n",
       "4        33         2       1      48            []  "
      ]
     },
     "execution_count": 6,
     "metadata": {},
     "output_type": "execute_result"
    }
   ],
   "source": [
    "df['organizations'] = df['content'].apply(get_orgs)\n",
    "df.head()"
   ]
  },
  {
   "cell_type": "code",
   "execution_count": 21,
   "metadata": {},
   "outputs": [
    {
     "data": {
      "text/html": [
       "<div>\n",
       "<style scoped>\n",
       "    .dataframe tbody tr th:only-of-type {\n",
       "        vertical-align: middle;\n",
       "    }\n",
       "\n",
       "    .dataframe tbody tr th {\n",
       "        vertical-align: top;\n",
       "    }\n",
       "\n",
       "    .dataframe thead th {\n",
       "        text-align: right;\n",
       "    }\n",
       "</style>\n",
       "<table border=\"1\" class=\"dataframe\">\n",
       "  <thead>\n",
       "    <tr style=\"text-align: right;\">\n",
       "      <th></th>\n",
       "      <th>time</th>\n",
       "      <th>content</th>\n",
       "      <th>comments</th>\n",
       "      <th>retweets</th>\n",
       "      <th>quotes</th>\n",
       "      <th>hearts</th>\n",
       "      <th>organizations</th>\n",
       "    </tr>\n",
       "  </thead>\n",
       "  <tbody>\n",
       "    <tr>\n",
       "      <th>28</th>\n",
       "      <td>2023-04-18 07:49:00</td>\n",
       "      <td>Schwab's conference call was amazing. Just rel...</td>\n",
       "      <td>50</td>\n",
       "      <td>16</td>\n",
       "      <td>4</td>\n",
       "      <td>185</td>\n",
       "      <td>[MS]</td>\n",
       "    </tr>\n",
       "    <tr>\n",
       "      <th>29</th>\n",
       "      <td>2023-04-17 15:12:00</td>\n",
       "      <td>Watch Schwab. The bears need to break this one...</td>\n",
       "      <td>135</td>\n",
       "      <td>33</td>\n",
       "      <td>28</td>\n",
       "      <td>401</td>\n",
       "      <td>[]</td>\n",
       "    </tr>\n",
       "    <tr>\n",
       "      <th>32</th>\n",
       "      <td>2023-04-17 13:17:00</td>\n",
       "      <td>Does Schwab control this market today? Roblox??</td>\n",
       "      <td>59</td>\n",
       "      <td>10</td>\n",
       "      <td>3</td>\n",
       "      <td>157</td>\n",
       "      <td>[]</td>\n",
       "    </tr>\n",
       "    <tr>\n",
       "      <th>71</th>\n",
       "      <td>2023-04-05 09:45:00</td>\n",
       "      <td>What's new besides First Republic and Schwab? ...</td>\n",
       "      <td>177</td>\n",
       "      <td>16</td>\n",
       "      <td>4</td>\n",
       "      <td>294</td>\n",
       "      <td>[First Republic and]</td>\n",
       "    </tr>\n",
       "    <tr>\n",
       "      <th>200</th>\n",
       "      <td>2023-03-14 17:35:00</td>\n",
       "      <td>NIce insider buy at Schwab... 50,000 shares by...</td>\n",
       "      <td>606</td>\n",
       "      <td>100</td>\n",
       "      <td>93</td>\n",
       "      <td>1552</td>\n",
       "      <td>[]</td>\n",
       "    </tr>\n",
       "    <tr>\n",
       "      <th>205</th>\n",
       "      <td>2023-03-14 09:42:00</td>\n",
       "      <td>Schwab's defense seemed logical and i think th...</td>\n",
       "      <td>69</td>\n",
       "      <td>13</td>\n",
       "      <td>4</td>\n",
       "      <td>137</td>\n",
       "      <td>[Citigroup]</td>\n",
       "    </tr>\n",
       "  </tbody>\n",
       "</table>\n",
       "</div>"
      ],
      "text/plain": [
       "                    time                                            content   \n",
       "28   2023-04-18 07:49:00  Schwab's conference call was amazing. Just rel...  \\\n",
       "29   2023-04-17 15:12:00  Watch Schwab. The bears need to break this one...   \n",
       "32   2023-04-17 13:17:00    Does Schwab control this market today? Roblox??   \n",
       "71   2023-04-05 09:45:00  What's new besides First Republic and Schwab? ...   \n",
       "200  2023-03-14 17:35:00  NIce insider buy at Schwab... 50,000 shares by...   \n",
       "205  2023-03-14 09:42:00  Schwab's defense seemed logical and i think th...   \n",
       "\n",
       "     comments  retweets  quotes  hearts         organizations  \n",
       "28         50        16       4     185                  [MS]  \n",
       "29        135        33      28     401                    []  \n",
       "32         59        10       3     157                    []  \n",
       "71        177        16       4     294  [First Republic and]  \n",
       "200       606       100      93    1552                    []  \n",
       "205        69        13       4     137           [Citigroup]  "
      ]
     },
     "execution_count": 21,
     "metadata": {},
     "output_type": "execute_result"
    }
   ],
   "source": [
    "# get rows containing \"morgan\" in content column\n",
    "df[df['content'].str.contains(\"Schwab\")]"
   ]
  },
  {
   "cell_type": "code",
   "execution_count": 7,
   "metadata": {},
   "outputs": [
    {
     "data": {
      "text/plain": [
       "[('Apple', 34),\n",
       " ('Nvidia', 30),\n",
       " ('Disney', 26),\n",
       " ('Gamestop', 25),\n",
       " ('AMD', 21),\n",
       " ('Bed Bath', 20),\n",
       " ('Amazon', 18),\n",
       " ('CNBC Investing Club', 14),\n",
       " ('Twitter', 14),\n",
       " ('AMC', 14)]"
      ]
     },
     "execution_count": 7,
     "metadata": {},
     "output_type": "execute_result"
    }
   ],
   "source": [
    "# merge organizations column into one big list\n",
    "orgs = df['organizations'].to_list()\n",
    "orgs = [org for sublist in orgs for org in sublist]\n",
    "orgs[:10]\n",
    "org_freq = Counter(orgs)\n",
    "org_freq.most_common(10)"
   ]
  },
  {
   "cell_type": "code",
   "execution_count": 22,
   "metadata": {},
   "outputs": [
    {
     "data": {
      "text/plain": [
       "['TX',\n",
       " 'Smith Street',\n",
       " 'the Lone Star State',\n",
       " 'TX',\n",
       " 'Fsforo',\n",
       " 'Ford',\n",
       " 'CSX',\n",
       " 'ATT',\n",
       " 'IBM',\n",
       " 'Cramericans & Mezcal']"
      ]
     },
     "execution_count": 22,
     "metadata": {},
     "output_type": "execute_result"
    }
   ],
   "source": [
    "# merge organizations column into one big list\n",
    "orgs = df['organizations'].to_list()\n",
    "orgs = [org for sublist in orgs for org in sublist]\n",
    "orgs[:10]\n"
   ]
  },
  {
   "cell_type": "code",
   "execution_count": 23,
   "metadata": {},
   "outputs": [
    {
     "data": {
      "text/plain": [
       "[('Apple', 33),\n",
       " ('AMD', 25),\n",
       " ('Disney', 23),\n",
       " ('Amazon', 18),\n",
       " ('semis', 18),\n",
       " ('Investing Club', 15),\n",
       " ('CNBC Investing Club', 15),\n",
       " ('AMC', 14),\n",
       " ('BBBY', 14),\n",
       " ('Micron', 13)]"
      ]
     },
     "execution_count": 23,
     "metadata": {},
     "output_type": "execute_result"
    }
   ],
   "source": [
    "# create dictionary of organization mention frequency\n",
    "org_freq = Counter(orgs)\n",
    "org_freq.most_common(10)\n"
   ]
  }
 ],
 "metadata": {
  "kernelspec": {
   "display_name": ".venv",
   "language": "python",
   "name": "python3"
  },
  "language_info": {
   "codemirror_mode": {
    "name": "ipython",
    "version": 3
   },
   "file_extension": ".py",
   "mimetype": "text/x-python",
   "name": "python",
   "nbconvert_exporter": "python",
   "pygments_lexer": "ipython3",
   "version": "3.10.0"
  },
  "orig_nbformat": 4
 },
 "nbformat": 4,
 "nbformat_minor": 2
}
